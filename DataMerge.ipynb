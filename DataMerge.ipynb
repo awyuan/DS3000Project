{
 "cells": [
  {
   "cell_type": "code",
   "execution_count": 2,
   "metadata": {},
   "outputs": [],
   "source": [
    "import pandas as pd"
   ]
  },
  {
   "cell_type": "code",
   "execution_count": 139,
   "metadata": {},
   "outputs": [
    {
     "name": "stdout",
     "output_type": "stream",
     "text": [
      "Index(['Player', 'Pos', 'Age', 'Tm', 'G', 'GS', 'MP', 'FG', 'FGA', 'FG%', '3P',\n",
      "       '3PA', '3P%', '2P', '2PA', '2P%', 'eFG%', 'FT', 'FTA', 'FT%', 'ORB',\n",
      "       'DRB', 'TRB', 'AST', 'STL', 'BLK', 'TOV', 'PF', 'PTS', 'PER', 'TS%',\n",
      "       '3PAr', 'FTr', 'ORB%', 'DRB%', 'TRB%', 'AST%', 'STL%', 'BLK%', 'TOV%',\n",
      "       'USG%', 'OWS', 'DWS', 'WS', 'WS/48', 'OBPM', 'DBPM', 'BPM', 'VORP',\n",
      "       'Year', 'UID', 'Salary', 'Cap%'],\n",
      "      dtype='object')\n"
     ]
    }
   ],
   "source": [
    "\n",
    "df = pd.DataFrame()\n",
    "duplicates = ['Rk','Pos','Age','Tm','G','MP']\n",
    "    \n",
    "for year in ['2013','2014','2015']:\n",
    "    stat = pd.read_csv(\"data/{}stats.csv\".format(year))\n",
    "    advanced = pd.read_csv(\"data/{}advancedstats.csv\".format(year))\n",
    "    advanced = advanced.drop(columns = duplicates)\n",
    "    stat = stat.merge(advanced, on = 'Player')\n",
    "    stat['Year'] = int(year)\n",
    "    #print(advanced.keys())\n",
    "    #print('Stat', stat.keys())\n",
    "    stat = stat.drop_duplicates(subset = 'Player', keep = 'first')\n",
    "    df = df.append(stat)\n",
    "    #print(df.keys())\n",
    "    #print('Stat', stat.keys())\n",
    "\n",
    "df['UID'] = df['Player'].apply(lambda name : name.split('\\\\')[1])\n",
    "df['Player'] = df['Player'].apply(lambda name : name.split('\\\\')[0])\n",
    "df = df.drop(columns = 'Rk')\n",
    "   \n",
    "df = df.drop(columns = ['Unnamed: 19','Unnamed: 24'])\n",
    "df = df.fillna(0)\n",
    "\n",
    "cd = pd.read_csv('data/NBA_Salary_History - HistoryFormatted.csv')\n",
    "cd = cd.drop(columns = ['BelowMin', 'Unnamed: 5', 'Team'])\n",
    "cd = cd.rename(columns = {'YearEnd':'Year', ' Salary ':'Salary'})\n",
    "\n",
    "\n",
    "cd['Salary'] = cd['Salary'].apply(lambda x : x.replace(',',''))\n",
    "\n",
    "cd.head()\n",
    "\n",
    "\n",
    "df = df.merge(cd, how = 'inner', on=['Year','Player'])\n",
    "\n",
    "capD = pd.read_csv('data/capdata.csv')\n",
    "capD = capD.set_index('Year')\n",
    "\n",
    "df['Cap%'] = df.T.apply(lambda row : int(row['Salary']) / capD.loc[row['Year']]['Salary Cap'])\n",
    "\n",
    "\n",
    "df.head()\n"
   ]
  },
  {
   "cell_type": "code",
   "execution_count": 138,
   "metadata": {},
   "outputs": [],
   "source": [
    "df.to_csv('data/data.csv')\n",
    "\n",
    "\n",
    "\n"
   ]
  },
  {
   "cell_type": "code",
   "execution_count": null,
   "metadata": {},
   "outputs": [],
   "source": []
  },
  {
   "cell_type": "code",
   "execution_count": null,
   "metadata": {},
   "outputs": [],
   "source": []
  }
 ],
 "metadata": {
  "kernelspec": {
   "display_name": "Python 3",
   "language": "python",
   "name": "python3"
  },
  "language_info": {
   "codemirror_mode": {
    "name": "ipython",
    "version": 3
   },
   "file_extension": ".py",
   "mimetype": "text/x-python",
   "name": "python",
   "nbconvert_exporter": "python",
   "pygments_lexer": "ipython3",
   "version": "3.7.4"
  }
 },
 "nbformat": 4,
 "nbformat_minor": 2
}
